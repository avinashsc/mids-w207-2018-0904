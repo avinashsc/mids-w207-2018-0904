{
 "cells": [
  {
   "cell_type": "markdown",
   "metadata": {},
   "source": [
    "# Classification using Bayesian Decision Theory - Overview"
   ]
  },
  {
   "attachments": {},
   "cell_type": "markdown",
   "metadata": {},
   "source": [
    "![title](img/Selection_246.png)"
   ]
  },
  {
   "attachments": {},
   "cell_type": "markdown",
   "metadata": {},
   "source": [
    "![title](img/Selection_246.png)"
   ]
  },
  {
   "cell_type": "markdown",
   "metadata": {},
   "source": [
    "Lets generate a toy classification problem dataset for the cartesian coordinate system with two classes (K=2)."
   ]
  },
  {
   "cell_type": "code",
   "execution_count": 12,
   "metadata": {},
   "outputs": [],
   "source": [
    "import numpy as np\n",
    "import matplotlib.pyplot as plt\n",
    "import math\n",
    "import random\n",
    "import sys\n",
    "np.random.seed(0)\n",
    "random.seed(0)"
   ]
  },
  {
   "cell_type": "markdown",
   "metadata": {},
   "source": [
    "a. Pick Centers"
   ]
  },
  {
   "cell_type": "code",
   "execution_count": 13,
   "metadata": {},
   "outputs": [],
   "source": [
    "center1_x = 8\n",
    "center1_y = 11\n",
    "\n",
    "center2_x = 8\n",
    "center2_y = 12"
   ]
  },
  {
   "cell_type": "markdown",
   "metadata": {},
   "source": [
    "Place centers into a dictionary for later"
   ]
  },
  {
   "cell_type": "code",
   "execution_count": 14,
   "metadata": {},
   "outputs": [
    {
     "data": {
      "text/plain": [
       "{(8, 11): 'class1', (8, 12): 'class2'}"
      ]
     },
     "execution_count": 14,
     "metadata": {},
     "output_type": "execute_result"
    }
   ],
   "source": [
    "centers_dict = {}\n",
    "centers_dict[(center1_x,center1_y)] = \"class1\"\n",
    "centers_dict[(center2_x,center2_y)] = \"class2\"\n",
    "centers_dict"
   ]
  },
  {
   "cell_type": "markdown",
   "metadata": {},
   "source": [
    "b. Generate 20 data points as noise around each center"
   ]
  },
  {
   "cell_type": "code",
   "execution_count": 15,
   "metadata": {},
   "outputs": [],
   "source": [
    "sample_x_1 = np.random.uniform(center1_x-1, center1_x+1, 20)\n",
    "sample_x_2 = np.random.uniform(center2_x-1, center2_x+1, 20)\n",
    "\n",
    "sample_y_1 = np.random.uniform(center1_y-1, center1_y+1, 20)\n",
    "sample_y_2 = np.random.uniform(center2_y-1, center2_y+1, 20)"
   ]
  },
  {
   "cell_type": "markdown",
   "metadata": {},
   "source": [
    "c. Place dataset with ground truth "
   ]
  },
  {
   "cell_type": "code",
   "execution_count": 16,
   "metadata": {},
   "outputs": [
    {
     "data": {
      "text/plain": [
       "{(8.09762700785465, 10.719015801147572): 'class1',\n",
       " (8.430378732744838, 10.874063907598682): 'class1',\n",
       " (8.205526752143287, 11.39526239185453): 'class1',\n",
       " (8.089766365993794, 10.12045094325854): 'class1',\n",
       " (7.84730959867781, 11.333533430891336): 'class1',\n",
       " (8.291788226133312, 11.34127573923632): 'class1',\n",
       " (7.875174422525385, 10.420765122147682): 'class1',\n",
       " (8.78354600156416, 10.257852595309707): 'class1',\n",
       " (8.927325521002059, 10.630856701848368): 'class1',\n",
       " (7.766883037651556, 10.727421541885246): 'class1',\n",
       " (8.58345007616533, 11.14039354083576): 'class1',\n",
       " (8.057789839505809, 10.87720302692464): 'class1',\n",
       " (8.136089122187865, 11.976747676118453): 'class1',\n",
       " (8.851193276585322, 10.204089621496056): 'class1',\n",
       " (7.142072116395774, 10.41775351218967): 'class1',\n",
       " (7.174258599403082, 10.322619035769993): 'class1',\n",
       " (7.040436794880652, 11.306216650930796): 'class1',\n",
       " (8.665239691095875, 10.506583205079565): 'class1',\n",
       " (8.556313501899702, 10.932621545712612): 'class1',\n",
       " (8.740024296493639, 10.488851184003206): 'class1',\n",
       " (8.957236684465528, 11.317939167291039): 'class2',\n",
       " (8.598317128433447, 11.220750282328611): 'class2',\n",
       " (7.922958724505864, 12.312659178930547): 'class2',\n",
       " (8.56105835257291, 11.276365902697227): 'class2',\n",
       " (7.236548851737867, 11.393164723360107): 'class2',\n",
       " (8.279842042655048, 11.737450341321928): 'class2',\n",
       " (7.286706574818092, 12.64198645969587): 'class2',\n",
       " (8.889337834099168, 11.194202551586123): 'class2',\n",
       " (8.043696643500143, 12.675889814997607): 'class2',\n",
       " (7.829323879981047, 11.192196815787927): 'class2',\n",
       " (7.529111224209254, 12.952918930026792): 'class2',\n",
       " (8.548467378868434, 11.937302403295403): 'class2',\n",
       " (7.912300664433097, 12.953522176380675): 'class2',\n",
       " (8.136867897737297, 12.209691039490092): 'class2',\n",
       " (7.037579600872711, 12.478527158796604): 'class2',\n",
       " (8.235270994151755, 11.078375584508642): 'class2',\n",
       " (8.224191445444843, 11.56561392515282): 'class2',\n",
       " (8.233867993749513, 11.240393122426338): 'class2',\n",
       " (8.887496157029249, 11.59228039504429): 'class2',\n",
       " (8.363640598206967, 11.237455437908489): 'class2'}"
      ]
     },
     "execution_count": 16,
     "metadata": {},
     "output_type": "execute_result"
    }
   ],
   "source": [
    "data_dict = {}\n",
    "\n",
    "for i in range(0,20):\n",
    "    new_tuple = (sample_x_1[i],sample_y_1[i])\n",
    "    data_dict[new_tuple] = \"class1\"\n",
    "    \n",
    "for i in range(0,20):\n",
    "    new_tuple = (sample_x_2[i],sample_y_2[i])\n",
    "    data_dict[new_tuple] = \"class2\"\n",
    "data_dict"
   ]
  },
  {
   "cell_type": "markdown",
   "metadata": {},
   "source": [
    "d. shuffle the data points "
   ]
  },
  {
   "cell_type": "code",
   "execution_count": 17,
   "metadata": {},
   "outputs": [],
   "source": [
    "datapoints =  list(data_dict.keys())      # for Python 2 use keys = d.keys()\n",
    "random.shuffle(datapoints)"
   ]
  },
  {
   "cell_type": "markdown",
   "metadata": {},
   "source": [
    "Assuming P(C_i | x) is correlated with Euclidean distance between the class center and data point. Calculate prediction g(x) for each data point. Report correct classification and misclassification counts."
   ]
  },
  {
   "cell_type": "markdown",
   "metadata": {},
   "source": [
    "a. define euclidean distance measure and predict for all data points "
   ]
  },
  {
   "cell_type": "code",
   "execution_count": 23,
   "metadata": {},
   "outputs": [],
   "source": [
    "def euclidean_distance(q1,p1,q2,p2):\n",
    "    # Exercise 1\n",
    "    pass"
   ]
  },
  {
   "cell_type": "code",
   "execution_count": 24,
   "metadata": {},
   "outputs": [],
   "source": [
    "def predict_class(centers, datapoint):\n",
    "    # Exercise 1\n",
    "    pass"
   ]
  },
  {
   "cell_type": "code",
   "execution_count": 25,
   "metadata": {},
   "outputs": [],
   "source": [
    "result_dict = {}\n",
    "for i in datapoints:\n",
    "    result_dict[i] = predict_class(centers_dict,i)"
   ]
  },
  {
   "cell_type": "markdown",
   "metadata": {},
   "source": [
    "b. Report on correct and incorrect classifications "
   ]
  },
  {
   "cell_type": "code",
   "execution_count": 26,
   "metadata": {},
   "outputs": [
    {
     "data": {
      "text/plain": [
       "30"
      ]
     },
     "execution_count": 26,
     "metadata": {},
     "output_type": "execute_result"
    }
   ],
   "source": [
    "correct_count = 0\n",
    "for i in result_dict:\n",
    "    if result_dict[i] == data_dict[i]:\n",
    "        correct_count += 1\n",
    "correct_count"
   ]
  },
  {
   "cell_type": "markdown",
   "metadata": {},
   "source": [
    "Plot dataset along with predictions."
   ]
  },
  {
   "cell_type": "code",
   "execution_count": 27,
   "metadata": {},
   "outputs": [
    {
     "data": {
      "image/png": "[encoded data removed]",
      "text/plain": [
       "<Figure size 432x288 with 1 Axes>"
      ]
     },
     "metadata": {},
     "output_type": "display_data"
    }
   ],
   "source": [
    "plt.subplots()\n",
    "#plt.axis([0, 10, 0, 15])\n",
    "plt.plot(center1_x, center1_y, 'ro')\n",
    "plt.plot(center2_x, center2_y, 'go')\n",
    "\n",
    "for key,val in result_dict.items():\n",
    "    if val == \"class1\":\n",
    "        plt.plot(key[0], key[1], 'r.')\n",
    "    else:\n",
    "        plt.plot(key[0], key[1], 'g.')"
   ]
  }
 ],
 "metadata": {
  "kernelspec": {
   "display_name": "Python 3",
   "language": "python",
   "name": "python3"
  },
  "language_info": {
   "codemirror_mode": {
    "name": "ipython",
    "version": 3
   },
   "file_extension": ".py",
   "mimetype": "text/x-python",
   "name": "python",
   "nbconvert_exporter": "python",
   "pygments_lexer": "ipython3",
   "version": "3.6.5"
  }
 },
 "nbformat": 4,
 "nbformat_minor": 2
}
