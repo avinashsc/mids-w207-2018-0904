{
 "cells": [
  {
   "cell_type": "markdown",
   "metadata": {},
   "source": [
    "# K-means Clustering"
   ]
  },
  {
   "attachments": {},
   "cell_type": "markdown",
   "metadata": {},
   "source": [
    "Search for cluster centers that\n",
    "\n",
    "![Kmeans objective](kmeans1.png)\n",
    "\n",
    "We use an approximate iterative solution method that locates centers using the following update rules\n"
   ]
  },
  {
   "attachments": {},
   "cell_type": "markdown",
   "metadata": {},
   "source": [
    "![Kmeans steps](kmeans2.png)\n",
    "\n",
    "Iteration continues until cluster assignments do not change or we reach a predefined number of iterations. This method finds a locak minimum rather than the global minimum, so it is an approximate method."
   ]
  },
  {
   "cell_type": "code",
   "execution_count": 19,
   "metadata": {},
   "outputs": [
    {
     "name": "stdout",
     "output_type": "stream",
     "text": [
      "Dataset: [[0.84442185 0.7579544 ]\n",
      " [0.42057158 0.25891675]\n",
      " [0.51127472 0.40493414]\n",
      " [0.78379859 0.30331273]\n",
      " [0.47659695 0.58338204]\n",
      " [0.90811289 0.50468686]\n",
      " [0.28183784 0.7558042 ]\n",
      " [0.618369   0.25050634]\n",
      " [0.90974626 0.98278548]\n",
      " [0.81021724 0.90216595]]\n",
      "new mu: [array([0.90811289, 0.50468686]), array([0.618369  , 0.25050634]), array([0.42057158, 0.25891675])]\n",
      "new mu: [array([0.86812456, 0.78689817]), array([0.70108379, 0.27690953]), array([0.42257028, 0.50075928])]\n",
      "{0: [array([0.84442185, 0.7579544 ]), array([0.90811289, 0.50468686]), array([0.90974626, 0.98278548]), array([0.81021724, 0.90216595])], 2: [array([0.42057158, 0.25891675]), array([0.51127472, 0.40493414]), array([0.47659695, 0.58338204]), array([0.28183784, 0.7558042 ])], 1: [array([0.78379859, 0.30331273]), array([0.618369  , 0.25050634])]}\n",
      "done\n"
     ]
    },
    {
     "data": {
      "image/png": "[encoded data removed]",
      "text/plain": [
       "<Figure size 432x288 with 1 Axes>"
      ]
     },
     "metadata": {},
     "output_type": "display_data"
    }
   ],
   "source": [
    "import numpy as np\n",
    "import random\n",
    "import matplotlib.pyplot as plt\n",
    "\n",
    "random.seed(0)\n",
    "\n",
    "N = 10\n",
    "X = np.array([(random.uniform(0, 1), random.uniform(0,1)) for i in range(N)])\n",
    "print('Dataset: %s' %X)\n",
    "\n",
    "def assign_points_to_clusters(X, mu):\n",
    "    # expected cluster data structure\n",
    "    # { \n",
    "    #   0: [array([0.84442185, 0.7579544 ]), array([0.90811289, 0.50468686]), ... ], \n",
    "    #   1: [array([0.78379859, 0.30331273]), array([0.618369  , 0.25050634]), ... ], \n",
    "    #   2: [array([0.42057158, 0.25891675]), array([0.51127472, 0.40493414]), ... ] \n",
    "    # }\n",
    "    clusters  = {}\n",
    "    for x in X:\n",
    "        bestmukey = min([(i[0], np.linalg.norm(x-mu[i[0]])) \\\n",
    "                    for i in enumerate(mu)], key=lambda t:t[1])[0]\n",
    "        try:\n",
    "            clusters[bestmukey].append(x)\n",
    "        except KeyError:\n",
    "            clusters[bestmukey] = [x]\n",
    "    return clusters\n",
    " \n",
    "def reevaluate_centers(mu, clusters):\n",
    "    # expected mu data structure\n",
    "    # [ array([0.90811289, 0.50468686]), \n",
    "    #   array([0.618369  , 0.25050634]), \n",
    "    #   array([0.42057158, 0.25891675]) ]\n",
    "\n",
    "    newmu = []\n",
    "    keys = sorted(clusters.keys())\n",
    "    for k in keys:\n",
    "        newmu.append(np.mean(clusters[k], axis = 0))\n",
    "    return newmu\n",
    "\n",
    "def has_converged(mu, oldmu):\n",
    "    return (set([tuple(a) for a in mu]) == set([tuple(a) for a in oldmu]))\n",
    " \n",
    "def kmeans(X, K):\n",
    "    # Initialize to K random centers\n",
    "    oldmu = random.sample(list(X), K)\n",
    "    mu = random.sample(list(X), K)\n",
    "    while not has_converged(mu, oldmu):\n",
    "        print('new mu: %s' %mu)\n",
    "        # Assign all points in X to clusters\n",
    "        clusters = assign_points_to_clusters(X, mu)\n",
    "        # Reevaluate centers\n",
    "        oldmu = mu\n",
    "        mu = reevaluate_centers(mu, clusters)\n",
    "    return(mu, clusters)\n",
    "\n",
    "(mu, clusters) = kmeans(X, 3)\n",
    "\n",
    "print(clusters)\n",
    "\n",
    "for k in clusters.keys():\n",
    "    x_values = []\n",
    "    y_values = []\n",
    "    for data_point in clusters[k]:\n",
    "        x_values.append(data_point[0])\n",
    "        y_values.append(data_point[1])\n",
    "\n",
    "    plt.scatter(x_values, y_values)\n",
    "\n",
    "cluster_centers_x = []\n",
    "cluster_centers_y = []\n",
    "for c in mu:\n",
    "    cluster_centers_x.append(c[0])\n",
    "    cluster_centers_y.append(c[1])\n",
    "plt.scatter(cluster_centers_x, cluster_centers_y, marker='*', s=200)\n",
    "print('done')"
   ]
  },
  {
   "cell_type": "markdown",
   "metadata": {},
   "source": [
    "Reference: https://datasciencelab.wordpress.com/2013/12/12/clustering-with-k-means-in-python/"
   ]
  }
 ],
 "metadata": {
  "kernelspec": {
   "display_name": "Python 3",
   "language": "python",
   "name": "python3"
  },
  "language_info": {
   "codemirror_mode": {
    "name": "ipython",
    "version": 3
   },
   "file_extension": ".py",
   "mimetype": "text/x-python",
   "name": "python",
   "nbconvert_exporter": "python",
   "pygments_lexer": "ipython3",
   "version": "3.6.5"
  }
 },
 "nbformat": 4,
 "nbformat_minor": 2
}
