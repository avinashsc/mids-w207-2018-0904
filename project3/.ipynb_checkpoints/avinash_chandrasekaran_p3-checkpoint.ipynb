{
 "cells": [
  {
   "cell_type": "markdown",
   "metadata": {},
   "source": [
    "# Project 3: Poisonous mushrooms"
   ]
  },
  {
   "cell_type": "markdown",
   "metadata": {},
   "source": [
    "In this project, you'll investigate properties of mushrooms. This classic dataset contains over 8000 observations, where each mushroom is described by a variety of features like color, odor, etc., and the target variable is an indicator for whether the mushroom is poisonous. Since all the observations are categorical, I've binarized the feature space. Look at the feature_names below to see all 126 binary names.\n",
    "\n",
    "You'll start by running PCA to reduce the dimensionality from 126 down to 2 so that you can easily visualize the data. In general, PCA is very useful for visualization (though sklearn.manifold.tsne is known to produce better visualizations). Recall that PCA is a linear transformation. The 1st projected dimension is the linear combination of all 126 original features that captures as much of the variance in the data as possible. The 2nd projected dimension is the linear combination of all 126 original features that captures as much of the remaining variance as possible. The idea of dense low dimensional representations is crucial to machine learning!\n",
    "\n",
    "Once you've projected the data to 2 dimensions, you'll experiment with clustering using KMeans and density estimation with Gaussian Mixture Models. Finally, you'll train a classifier by fitting a GMM for the positive class and a GMM for the negative class, and perform inference by comparing the probabilities output by each model.\n",
    "\n",
    "As always, you're welcome to work on the project in groups and discuss ideas on the course wall, but please prepare your own write-up and write your own code."
   ]
  },
  {
   "cell_type": "code",
   "execution_count": 1,
   "metadata": {},
   "outputs": [],
   "source": [
    "%matplotlib inline\n",
    "\n",
    "import numpy as np\n",
    "import matplotlib.pyplot as plt\n",
    "from sklearn import metrics\n",
    "from sklearn.decomposition import PCA\n",
    "from sklearn.cluster import KMeans\n",
    "from sklearn.mixture import GMM\n",
    "from matplotlib.colors import LogNorm"
   ]
  },
  {
   "cell_type": "markdown",
   "metadata": {},
   "source": [
    "Load feature names."
   ]
  },
  {
   "cell_type": "code",
   "execution_count": 3,
   "metadata": {},
   "outputs": [
    {
     "name": "stdout",
     "output_type": "stream",
     "text": [
      "Loaded feature names: 126\n"
     ]
    }
   ],
   "source": [
    "feature_names = []\n",
    "with open('mushroom.map') as fmap:\n",
    "    for line in fmap:\n",
    "        [index, name, junk] = line.split()\n",
    "        feature_names.append(name)\n",
    "\n",
    "print('Loaded feature names:', len(feature_names))"
   ]
  },
  {
   "cell_type": "markdown",
   "metadata": {},
   "source": [
    "Load data. The data is sparse in the input file, but there aren't too many features, so we'll use a dense representation, which is supported by all sklearn objects."
   ]
  },
  {
   "cell_type": "code",
   "execution_count": 6,
   "metadata": {},
   "outputs": [
    {
     "name": "stdout",
     "output_type": "stream",
     "text": [
      "(7000, 126) (1124, 126)\n"
     ]
    }
   ],
   "source": [
    "X, Y = [], []\n",
    "\n",
    "with open('mushroom.data') as fdata:\n",
    "    for line in fdata:\n",
    "        items = line.split()\n",
    "        Y.append(int(items.pop(0)))\n",
    "        x = np.zeros(len(feature_names))\n",
    "        for item in items:\n",
    "            feature = int(item.split(':')[0])\n",
    "            x[feature] = 1\n",
    "        X.append(x)\n",
    "\n",
    "# Convert these lists to numpy arrays.\n",
    "X = np.array(X)\n",
    "Y = np.array(Y)\n",
    "\n",
    "# Split into train and test data.\n",
    "train_data, train_labels = X[:7000], Y[:7000]\n",
    "test_data, test_labels = X[7000:], Y[7000:]\n",
    "\n",
    "# Check that the shapes look right.\n",
    "print(train_data.shape, test_data.shape)"
   ]
  },
  {
   "cell_type": "markdown",
   "metadata": {},
   "source": [
    "(1) Run Principal Components Analysis on the data. Show what fraction of the total variance in the training data is explained by the first k principal components, for k in [1, 50]."
   ]
  },
  {
   "cell_type": "code",
   "execution_count": 9,
   "metadata": {},
   "outputs": [
    {
     "name": "stdout",
     "output_type": "stream",
     "text": [
      "k =  1\tVariance Explained = 16.404%\tRunning variance sum = 0.164 \n",
      "k =  2\tVariance Explained = 13.323%\tRunning variance sum = 0.297 \n",
      "k =  3\tVariance Explained = 10.173%\tRunning variance sum = 0.399 \n",
      "k =  4\tVariance Explained = 7.063%\tRunning variance sum = 0.470 \n",
      "k =  5\tVariance Explained = 3.867%\tRunning variance sum = 0.508 \n",
      "k =  6\tVariance Explained = 3.681%\tRunning variance sum = 0.545 \n",
      "k =  7\tVariance Explained = 3.128%\tRunning variance sum = 0.576 \n",
      "k =  8\tVariance Explained = 2.734%\tRunning variance sum = 0.604 \n",
      "k =  9\tVariance Explained = 2.616%\tRunning variance sum = 0.630 \n",
      "k = 10\tVariance Explained = 2.231%\tRunning variance sum = 0.652 \n",
      "k = 11\tVariance Explained = 2.048%\tRunning variance sum = 0.673 \n",
      "k = 12\tVariance Explained = 1.868%\tRunning variance sum = 0.691 \n",
      "k = 13\tVariance Explained = 1.734%\tRunning variance sum = 0.709 \n",
      "k = 14\tVariance Explained = 1.684%\tRunning variance sum = 0.726 \n",
      "k = 15\tVariance Explained = 1.519%\tRunning variance sum = 0.741 \n",
      "k = 16\tVariance Explained = 1.509%\tRunning variance sum = 0.756 \n",
      "k = 17\tVariance Explained = 1.429%\tRunning variance sum = 0.770 \n",
      "k = 18\tVariance Explained = 1.412%\tRunning variance sum = 0.784 \n",
      "k = 19\tVariance Explained = 1.325%\tRunning variance sum = 0.798 \n",
      "k = 20\tVariance Explained = 1.146%\tRunning variance sum = 0.809 \n",
      "k = 21\tVariance Explained = 1.071%\tRunning variance sum = 0.820 \n",
      "k = 22\tVariance Explained = 1.066%\tRunning variance sum = 0.830 \n",
      "k = 23\tVariance Explained = 1.041%\tRunning variance sum = 0.841 \n",
      "k = 24\tVariance Explained = 0.994%\tRunning variance sum = 0.851 \n",
      "k = 25\tVariance Explained = 0.908%\tRunning variance sum = 0.860 \n",
      "k = 26\tVariance Explained = 0.869%\tRunning variance sum = 0.868 \n",
      "k = 27\tVariance Explained = 0.796%\tRunning variance sum = 0.876 \n",
      "k = 28\tVariance Explained = 0.776%\tRunning variance sum = 0.884 \n",
      "k = 29\tVariance Explained = 0.738%\tRunning variance sum = 0.892 \n",
      "k = 30\tVariance Explained = 0.700%\tRunning variance sum = 0.899 \n",
      "k = 31\tVariance Explained = 0.641%\tRunning variance sum = 0.905 \n",
      "k = 32\tVariance Explained = 0.615%\tRunning variance sum = 0.911 \n",
      "k = 33\tVariance Explained = 0.572%\tRunning variance sum = 0.917 \n",
      "k = 34\tVariance Explained = 0.534%\tRunning variance sum = 0.922 \n",
      "k = 35\tVariance Explained = 0.526%\tRunning variance sum = 0.927 \n",
      "k = 36\tVariance Explained = 0.503%\tRunning variance sum = 0.932 \n",
      "k = 37\tVariance Explained = 0.499%\tRunning variance sum = 0.937 \n",
      "k = 38\tVariance Explained = 0.456%\tRunning variance sum = 0.942 \n",
      "k = 39\tVariance Explained = 0.453%\tRunning variance sum = 0.947 \n",
      "k = 40\tVariance Explained = 0.440%\tRunning variance sum = 0.951 \n",
      "k = 41\tVariance Explained = 0.419%\tRunning variance sum = 0.955 \n",
      "k = 42\tVariance Explained = 0.398%\tRunning variance sum = 0.959 \n",
      "k = 43\tVariance Explained = 0.370%\tRunning variance sum = 0.963 \n",
      "k = 44\tVariance Explained = 0.360%\tRunning variance sum = 0.966 \n",
      "k = 45\tVariance Explained = 0.338%\tRunning variance sum = 0.970 \n",
      "k = 46\tVariance Explained = 0.299%\tRunning variance sum = 0.973 \n",
      "k = 47\tVariance Explained = 0.272%\tRunning variance sum = 0.975 \n",
      "k = 48\tVariance Explained = 0.236%\tRunning variance sum = 0.978 \n",
      "k = 49\tVariance Explained = 0.221%\tRunning variance sum = 0.980 \n",
      "k = 50\tVariance Explained = 0.204%\tRunning variance sum = 0.982 \n",
      "\n",
      "98.210% of the training data variance is explained by the 1st 50 principal components\n"
     ]
    },
    {
     "data": {
      "image/png": "[encoded data removed]",
      "text/plain": [
       "<Figure size 432x288 with 1 Axes>"
      ]
     },
     "metadata": {},
     "output_type": "display_data"
    }
   ],
   "source": [
    "def P1(k):\n",
    "### STUDENT START ###\n",
    "\n",
    "    pca = PCA(n_components=k)\n",
    "    pca.fit(train_data)\n",
    "    evr = pca.explained_variance_ratio_\n",
    "    \n",
    "    x_axis = []\n",
    "    y_axis = []\n",
    "    \n",
    "    running_sum_variance = 0\n",
    "    for i in range(k):\n",
    "        running_sum_variance += evr[i]\n",
    "        x_axis.append(i)\n",
    "        y_axis.append(running_sum_variance)\n",
    "        print(\"k = {0:2d}\\tVariance Explained = {1:.3f}%\\tRunning variance sum = {2:.3f} \"\n",
    "              .format(i+1, evr[i]*100, running_sum_variance))\n",
    "    \n",
    "    print(\"\\n{0:.3f}% of the training data variance is explained by the 1st 50 principal components\"\n",
    "          .format(running_sum_variance*100))\n",
    "    plt.figure()\n",
    "    plt.subplot(1, 1, 1)\n",
    "    plt.plot(x_axis, y_axis)\n",
    "    plt.title('Plot of clusters against cumulative variance explained')\n",
    "    plt.xlabel('Number of Clusters')\n",
    "    plt.ylabel('Cumulative Variance Explained')\n",
    "\n",
    "### STUDENT END ###\n",
    "\n",
    "P1(50)"
   ]
  },
  {
   "cell_type": "markdown",
   "metadata": {},
   "source": [
    "(2) PCA can be very useful for visualizing data. Project the training data down to 2 dimensions and plot it. Show the positive (poisonous) cases in blue and the negative (non-poisonous) in red. Here's a reference for plotting: http://matplotlib.org/users/pyplot_tutorial.html"
   ]
  },
  {
   "cell_type": "code",
   "execution_count": 2,
   "metadata": {},
   "outputs": [],
   "source": [
    "def P2():\n",
    "### STUDENT START ###\n",
    "\n",
    "### STUDENT END ###\n",
    "\n",
    "P2()"
   ]
  },
  {
   "cell_type": "markdown",
   "metadata": {},
   "source": [
    "(3) Run KMeans with [1,16] clusters over the 2d projected data. Mark each centroid cluster and plot a circle that goes through the most distant point assigned to each cluster."
   ]
  },
  {
   "cell_type": "code",
   "execution_count": 3,
   "metadata": {},
   "outputs": [],
   "source": [
    "#def P3():\n",
    "### STUDENT START ###\n",
    "\n",
    "### STUDENT END ###\n",
    "\n",
    "#P3()"
   ]
  },
  {
   "cell_type": "markdown",
   "metadata": {},
   "source": [
    "(4) Fit a Gaussian Mixture Model for the positive examples in your 2d projected data. Plot the estimated density contours as shown here: http://scikit-learn.org/stable/auto_examples/mixture/plot_gmm_pdf.html#example-mixture-plot-gmm-pdf-py. Vary the number of mixture components from 1-4 and the covariance matrix type ('spherical', 'diag', 'tied', 'full')."
   ]
  },
  {
   "cell_type": "code",
   "execution_count": 4,
   "metadata": {},
   "outputs": [],
   "source": [
    "#def P4():\n",
    "### STUDENT START ###\n",
    "\n",
    "### STUDENT END ###\n",
    "\n",
    "#P4()"
   ]
  },
  {
   "cell_type": "markdown",
   "metadata": {},
   "source": [
    "(5) Fit two 4-component full covariance GMMs, one for the positive examples and one for the negative examples in your 2d projected data. Predict the test examples by choosing the label for which the model gives a larger probability (use GMM.score). What is the accuracy?"
   ]
  },
  {
   "cell_type": "code",
   "execution_count": 5,
   "metadata": {},
   "outputs": [],
   "source": [
    "#def P5():\n",
    "### STUDENT START ###\n",
    "\n",
    "### STUDENT END ###\n",
    "\n",
    "#P5()"
   ]
  },
  {
   "cell_type": "markdown",
   "metadata": {},
   "source": [
    "(6) Ideally, we'd like a model that gives the best accuracy with the fewest parameters. Run a series of experiments to find the model that gives the best accuracy with no more than 50 parameters. For example, with 3 PCA components and 2-component diagonal covariance GMMs, you'd have:\n",
    "\n",
    "( (3 mean vector + 3 covariance matrix) x 2 components ) x 2 classes = 24 parameters\n",
    "\n",
    "You should vary the number of PCA components, the number of GMM components, and the covariance type."
   ]
  },
  {
   "cell_type": "code",
   "execution_count": 6,
   "metadata": {},
   "outputs": [],
   "source": [
    "#def P6():\n",
    "### STUDENT START ###\n",
    "\n",
    "### STUDENT END ###\n",
    "\n",
    "#P6()"
   ]
  },
  {
   "cell_type": "code",
   "execution_count": null,
   "metadata": {
    "collapsed": true
   },
   "outputs": [],
   "source": []
  }
 ],
 "metadata": {
  "kernelspec": {
   "display_name": "Python 3",
   "language": "python",
   "name": "python3"
  },
  "language_info": {
   "codemirror_mode": {
    "name": "ipython",
    "version": 3
   },
   "file_extension": ".py",
   "mimetype": "text/x-python",
   "name": "python",
   "nbconvert_exporter": "python",
   "pygments_lexer": "ipython3",
   "version": "3.6.5"
  }
 },
 "nbformat": 4,
 "nbformat_minor": 1
}
