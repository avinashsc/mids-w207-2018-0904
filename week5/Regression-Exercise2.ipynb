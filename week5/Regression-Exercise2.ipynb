{
 "cells": [
  {
   "cell_type": "markdown",
   "metadata": {},
   "source": [
    "### Experiment with Gradient Descent for Linear Regression."
   ]
  },
  {
   "cell_type": "markdown",
   "metadata": {},
   "source": [
    "Enough irises. Let's use the Boston housing data set and try training some regression models. This notebook features the <a href=\"http://stanford.edu/~mwaskom/software/seaborn/index.html\">seaborn package</a> which makes all plots prettier and has some nice built-in features like the correlation plot you'll see below. You'll probably have to install it (ideally with pip)."
   ]
  },
  {
   "cell_type": "code",
   "execution_count": 1,
   "metadata": {},
   "outputs": [],
   "source": [
    "# This tells matplotlib not to try opening a new window for each plot.\n",
    "%matplotlib inline\n",
    "\n",
    "import matplotlib.pyplot as plt\n",
    "import seaborn as sns\n",
    "import numpy as np\n",
    "import time\n",
    "from numpy.linalg import inv\n",
    "from sklearn.datasets import load_boston\n",
    "from sklearn.linear_model import LinearRegression\n",
    "from sklearn import preprocessing\n",
    "\n",
    "np.set_printoptions(precision=4, suppress=True)"
   ]
  },
  {
   "cell_type": "markdown",
   "metadata": {},
   "source": [
    "Load the Boston housing data. This data set is pretty out-of-date since it was collected in the 1970s. Each of the 506 entries represents a local district in the Boston area. The standard target variable is the median home value in the district (in 1000s of dollars). Let's print out the description along with a histogram of the target. Notice that the distribution of median value is roughly Gaussian with a significant outlier -- there are around 15 very wealthy districts."
   ]
  },
  {
   "cell_type": "code",
   "execution_count": 2,
   "metadata": {},
   "outputs": [
    {
     "name": "stdout",
     "output_type": "stream",
     "text": [
      "Boston House Prices dataset\n",
      "===========================\n",
      "\n",
      "Notes\n",
      "------\n",
      "Data Set Characteristics:  \n",
      "\n",
      "    :Number of Instances: 506 \n",
      "\n",
      "    :Number of Attributes: 13 numeric/categorical predictive\n",
      "    \n",
      "    :Median Value (attribute 14) is usually the target\n",
      "\n",
      "    :Attribute Information (in order):\n",
      "        - CRIM     per capita crime rate by town\n",
      "        - ZN       proportion of residential land zoned for lots over 25,000 sq.ft.\n",
      "        - INDUS    proportion of non-retail business acres per town\n",
      "        - CHAS     Charles River dummy variable (= 1 if tract bounds river; 0 otherwise)\n",
      "        - NOX      nitric oxides concentration (parts per 10 million)\n",
      "        - RM       average number of rooms per dwelling\n",
      "        - AGE      proportion of owner-occupied units built prior to 1940\n",
      "        - DIS      weighted distances to five Boston employment centres\n",
      "        - RAD      index of accessibility to radial highways\n",
      "        - TAX      full-value property-tax rate per $10,000\n",
      "        - PTRATIO  pupil-teacher ratio by town\n",
      "        - B        1000(Bk - 0.63)^2 where Bk is the proportion of blacks by town\n",
      "        - LSTAT    % lower status of the population\n",
      "        - MEDV     Median value of owner-occupied homes in $1000's\n",
      "\n",
      "    :Missing Attribute Values: None\n",
      "\n",
      "    :Creator: Harrison, D. and Rubinfeld, D.L.\n",
      "\n",
      "This is a copy of UCI ML housing dataset.\n",
      "http://archive.ics.uci.edu/ml/datasets/Housing\n",
      "\n",
      "\n",
      "This dataset was taken from the StatLib library which is maintained at Carnegie Mellon University.\n",
      "\n",
      "The Boston house-price data of Harrison, D. and Rubinfeld, D.L. 'Hedonic\n",
      "prices and the demand for clean air', J. Environ. Economics & Management,\n",
      "vol.5, 81-102, 1978.   Used in Belsley, Kuh & Welsch, 'Regression diagnostics\n",
      "...', Wiley, 1980.   N.B. Various transformations are used in the table on\n",
      "pages 244-261 of the latter.\n",
      "\n",
      "The Boston house-price data has been used in many machine learning papers that address regression\n",
      "problems.   \n",
      "     \n",
      "**References**\n",
      "\n",
      "   - Belsley, Kuh & Welsch, 'Regression diagnostics: Identifying Influential Data and Sources of Collinearity', Wiley, 1980. 244-261.\n",
      "   - Quinlan,R. (1993). Combining Instance-Based and Model-Based Learning. In Proceedings on the Tenth International Conference of Machine Learning, 236-243, University of Massachusetts, Amherst. Morgan Kaufmann.\n",
      "   - many more! (see http://archive.ics.uci.edu/ml/datasets/Housing)\n",
      "\n"
     ]
    },
    {
     "data": {
      "image/png": "[encoded data removed]",
      "text/plain": [
       "<Figure size 432x288 with 1 Axes>"
      ]
     },
     "metadata": {},
     "output_type": "display_data"
    }
   ],
   "source": [
    "boston = load_boston()\n",
    "X, Y = boston.data, boston.target\n",
    "plt.hist(Y, 50)\n",
    "plt.xlabel('Median value (in $1000)')\n",
    "print (boston.DESCR)"
   ]
  },
  {
   "cell_type": "markdown",
   "metadata": {},
   "source": [
    "As usual, let's create separate training and test data."
   ]
  },
  {
   "cell_type": "code",
   "execution_count": null,
   "metadata": {},
   "outputs": [],
   "source": [
    "# Shuffle the data, but make sure that the features and accompanying labels stay in sync.\n",
    "np.random.seed(0)\n",
    "shuffle = np.random.permutation(np.arange(X.shape[0]))\n",
    "X, Y = X[shuffle], Y[shuffle]\n",
    "\n",
    "# Split into train and test.\n",
    "train_data, train_labels = X[:350], Y[:350]\n",
    "test_data, test_labels = X[350:], Y[350:]"
   ]
  },
  {
   "cell_type": "markdown",
   "metadata": {},
   "source": [
    "Ok. Let's implement gradient descent. It's more efficient to implement it with vector calculations, though this may be a bit more difficult to understand at first glance. Try to think through each step and make sure you understand how it works."
   ]
  },
  {
   "cell_type": "code",
   "execution_count": 21,
   "metadata": {},
   "outputs": [
    {
     "data": {
      "image/png": "[encoded data removed]",
      "text/plain": [
       "<Figure size 432x288 with 1 Axes>"
      ]
     },
     "metadata": {},
     "output_type": "display_data"
    }
   ],
   "source": [
    "# eta is the learning rate; smaller values will tend to give slower but more precise convergence.\n",
    "# num_iters is the number of iterations to run.\n",
    "def gradient_descent(train_data, target_data, eta, num_iters):\n",
    "    # Add a 1 to each feature vector so we learn an intercept.\n",
    "    X = np.c_[np.ones(train_data.shape[0]), train_data]\n",
    "    \n",
    "    # m = number of samples, k = number of features\n",
    "    m, k = X.shape\n",
    "    \n",
    "    # Initially, set all the parameters to 1.\n",
    "    theta = np.ones(k)\n",
    "    \n",
    "    # Keep track of costs after each step.\n",
    "    costs = []\n",
    "    \n",
    "    for iter in range(0, num_iters):\n",
    "        # Get the current predictions for the training examples given the current estimate of theta.\n",
    "        hypothesis = np.dot(X, theta)\n",
    "        \n",
    "        # The loss is the difference between the predictions and the actual target values.\n",
    "        loss = hypothesis - target_data\n",
    "        \n",
    "        # In standard linear regression, we want to minimize the sum of squared losses.\n",
    "        cost = np.sum(loss ** 2) / (2 * m)\n",
    "        costs.append(cost)\n",
    "        \n",
    "        # Compute the gradient.\n",
    "        gradient = np.dot(X.T, loss) / m\n",
    "\n",
    "        # Update theta, scaling the gradient by the learning rate.\n",
    "        theta = theta - eta * gradient\n",
    "        \n",
    "    return theta, costs\n",
    "\n",
    "# Run gradient descent and plot the cost vs iterations.\n",
    "theta, costs = gradient_descent(train_data[:,0:1], train_labels, .01, 500)\n",
    "plt.plot(costs)\n",
    "plt.xlabel('Iteration'), plt.ylabel('Cost')\n",
    "plt.show()"
   ]
  },
  {
   "cell_type": "markdown",
   "metadata": {},
   "source": [
    "Let's compare our results to sklearn's regression as well as the algebraic solution to \"ordinary least squares\". Try increasing the number of iterations above to see whether we get closer."
   ]
  },
  {
   "cell_type": "code",
   "execution_count": 9,
   "metadata": {},
   "outputs": [
    {
     "name": "stdout",
     "output_type": "stream",
     "text": [
      "Our estimated theta:     23.3397 + -0.3466*CRIM\n",
      "OLS estimated theta:     23.6380 + -0.3575*CRIM\n",
      "sklearn estimated theta: 23.6380 + -0.3575*CRIM\n"
     ]
    }
   ],
   "source": [
    "def OLS(X, Y):\n",
    "    # Add the intercept.\n",
    "    X = np.c_[np.ones(X.shape[0]), X]\n",
    "    \n",
    "    # We use np.linalg.inv() to compute a matrix inverse.\n",
    "    return np.dot(inv(np.dot(X.T, X)), np.dot(X.T, Y))\n",
    "\n",
    "ols_solution = OLS(train_data[:,0:1], train_labels)\n",
    "\n",
    "lr = LinearRegression(fit_intercept=True)\n",
    "lr.fit(train_data[:,0:1], train_labels)\n",
    "\n",
    "print ('Our estimated theta:     %.4f + %.4f*CRIM' %(theta[0], theta[1]))\n",
    "print ('OLS estimated theta:     %.4f + %.4f*CRIM' %(ols_solution[0], ols_solution[1]))\n",
    "print ('sklearn estimated theta: %.4f + %.4f*CRIM' %(lr.intercept_, lr.coef_[0]))"
   ]
  },
  {
   "cell_type": "markdown",
   "metadata": {},
   "source": [
    "Ok, let's try fitting a model that uses more of the variables. Let's run just a few iterations and check the cost function."
   ]
  },
  {
   "cell_type": "code",
   "execution_count": 22,
   "metadata": {},
   "outputs": [
    {
     "data": {
      "image/png": "[encoded data removed]",
      "text/plain": [
       "<Figure size 432x288 with 1 Axes>"
      ]
     },
     "metadata": {},
     "output_type": "display_data"
    }
   ],
   "source": [
    "num_feats = 5\n",
    "theta, costs = gradient_descent(train_data[:,0:num_feats], train_labels, .01, 10)\n",
    "plt.plot(list(map(np.log, costs)))\n",
    "plt.xlabel('Iteration'), plt.ylabel('Log Cost')\n",
    "plt.show()"
   ]
  },
  {
   "cell_type": "markdown",
   "metadata": {},
   "source": [
    "The cost is increasing and fast! This can happen when the learning rate is too large. The updated parameters skip over the optimum and the cost ends up larger than it was before. Let's reduce the learning rate and try again. "
   ]
  },
  {
   "cell_type": "code",
   "execution_count": 24,
   "metadata": {},
   "outputs": [
    {
     "data": {
      "image/png": "[encoded data removed]",
      "text/plain": [
       "<Figure size 432x288 with 1 Axes>"
      ]
     },
     "metadata": {},
     "output_type": "display_data"
    },
    {
     "name": "stdout",
     "output_type": "stream",
     "text": [
      "Training time: 2.26 secs\n",
      "Our estimated theta: [26.0983 -0.2143  0.0345 -0.4745  4.9007  2.8408]\n",
      "OLS estimated theta: [ 32.5831  -0.1926   0.0218  -0.3213   5.4266 -11.8824]\n"
     ]
    }
   ],
   "source": [
    "start_time = time.time()\n",
    "theta, costs = gradient_descent(train_data[:,0:num_feats], train_labels, .001, 100000)\n",
    "train_time = time.time() - start_time\n",
    "plt.plot(list(map(np.log, costs)))\n",
    "plt.xlabel('Iteration'), plt.ylabel('Log Cost')\n",
    "plt.show()\n",
    "\n",
    "print ('Training time: %.2f secs' %train_time)\n",
    "print ('Our estimated theta:', theta)\n",
    "print ('OLS estimated theta:', OLS(train_data[:,0:num_feats], train_labels))"
   ]
  },
  {
   "cell_type": "markdown",
   "metadata": {},
   "source": [
    "This is getting pretty slow, and it looks like it hasn't yet converged (see the last value of theta, especially). The scale of the parameters can also make convergence difficult. Let's examine the distributions of the features we're using."
   ]
  },
  {
   "cell_type": "code",
   "execution_count": 14,
   "metadata": {},
   "outputs": [
    {
     "data": {
      "image/png": "[encoded data removed]",
      "text/plain": [
       "<Figure size 1080x216 with 5 Axes>"
      ]
     },
     "metadata": {},
     "output_type": "display_data"
    }
   ],
   "source": [
    "plt.figure(figsize=(15, 3))\n",
    "for feature in range(num_feats):\n",
    "    plt.subplot(1, num_feats, feature+1)\n",
    "    plt.hist(train_data[:,feature])\n",
    "    plt.title(boston.feature_names[feature])"
   ]
  },
  {
   "cell_type": "markdown",
   "metadata": {},
   "source": [
    "Clearly, the distribution of the feature values varies a great deal. Let's apply the standard scaler -- subtract the mean, divide by the standard deviation -- for each feature. This is built in as a preprocessor in sklearn. We run the fit() function on the training data and then apply the transformation to both train and test data. We don't fit on the test data because this would be cheating -- we shouldn't know in advance the mean and variance of the feature values in the test data, so we assume they are the same as the training data."
   ]
  },
  {
   "cell_type": "code",
   "execution_count": 15,
   "metadata": {},
   "outputs": [
    {
     "data": {
      "image/png": "[encoded data removed]",
      "text/plain": [
       "<Figure size 1080x216 with 5 Axes>"
      ]
     },
     "metadata": {},
     "output_type": "display_data"
    }
   ],
   "source": [
    "# Exercise 2\n",
    "scaled_train_data = None\n",
    "scaled_test_data = None\n",
    "\n",
    "plt.figure(figsize=(15, 3))\n",
    "\n",
    "for feature in range(5):\n",
    "    plt.subplot(1, 5, feature+1)\n",
    "    plt.hist(scaled_train_data[:,feature])\n",
    "    plt.title(boston.feature_names[feature])"
   ]
  },
  {
   "cell_type": "markdown",
   "metadata": {},
   "source": [
    "Ok, let's try gradient descent again. We can increase the learning rate and decrease the number of iterations."
   ]
  },
  {
   "cell_type": "code",
   "execution_count": 18,
   "metadata": {
    "scrolled": true
   },
   "outputs": [
    {
     "data": {
      "image/png": "[encoded data removed]",
      "text/plain": [
       "<Figure size 432x288 with 1 Axes>"
      ]
     },
     "metadata": {},
     "output_type": "display_data"
    },
    {
     "name": "stdout",
     "output_type": "stream",
     "text": [
      "Training time: 0.11 secs\n",
      "Our estimated theta: [22.2951 -1.8194  0.5028 -2.1295  1.3976 -1.3729]\n",
      "OLS estimated theta: [22.2951 -1.8194  0.5028 -2.1295  1.3976 -1.3729]\n"
     ]
    }
   ],
   "source": [
    "start_time = time.time()\n",
    "theta, costs = gradient_descent(scaled_train_data[:,0:5], train_labels, .01, 5000)\n",
    "train_time = time.time() - start_time\n",
    "plt.plot(list(map(np.log, costs)))\n",
    "plt.xlabel('Iteration'), plt.ylabel('Log Cost')\n",
    "plt.show()\n",
    "\n",
    "print ('Training time: %.2f secs' %train_time)\n",
    "print ('Our estimated theta:', theta)\n",
    "print ('OLS estimated theta:', OLS(scaled_train_data[:,0:5], train_labels))"
   ]
  },
  {
   "cell_type": "markdown",
   "metadata": {},
   "source": [
    "Why do we even bother with gradient descent when the closed form solution works just fine?\n",
    "\n",
    "There are many answers. First, gradient descent is a general-purpose tool; we are applying it to the least squares problem which happens to have a closed form solution, but most other machine learning objectives do not have this luxury.\n",
    "\n",
    "Also, if we want to add regularization, we can no longer use the algebraic formula.\n",
    "\n",
    "Here's one more reason: You can't take the inverse of a singular matrix. That is, if two of our features are co-linear, the inverse function will fail. Gradient descent doesn't have this problem and should learn instead to share the weight appropriately between the two co-linear features. Let's test this by simply adding a copy of the crime feature."
   ]
  },
  {
   "cell_type": "code",
   "execution_count": 19,
   "metadata": {
    "scrolled": true
   },
   "outputs": [
    {
     "name": "stdout",
     "output_type": "stream",
     "text": [
      "Our estimated theta: [22.2951 -0.9097 -0.9097  0.5028 -2.1295  1.3976 -1.3729]\n",
      "OLS estimated theta:\n",
      "ERROR, singular matrix not invertible\n"
     ]
    }
   ],
   "source": [
    "# Create an augmented training set that has 2 copies of the crime variable.\n",
    "augmented_train_data = np.c_[scaled_train_data[:,0], scaled_train_data]\n",
    "\n",
    "# Run gradient descent and OLS and compare the results.\n",
    "theta, costs = gradient_descent(augmented_train_data[:,0:6], train_labels, .01, 5000)\n",
    "print ('Our estimated theta:', theta)\n",
    "\n",
    "print ('OLS estimated theta:',)\n",
    "try: print (OLS(augmented_train_data[:,0:6], train_labels))\n",
    "except: print ('ERROR, singular matrix not invertible')"
   ]
  },
  {
   "cell_type": "markdown",
   "metadata": {},
   "source": [
    "One final note about regression models. As you may know, they have become extremely common in all sorts of analysis. When all the various assumptions of the model are assumed to be true, it is tempting to interpret the estimated coefficients as causal. For example, in our 5-variable model above, we might conclude that a reduction in (standardized) per-capita crime rate of 1 would result in an increase in median value of about $18,194.\n",
    "\n",
    "Statistically, though, this conclusion is almost impossible to justify. You can see just how brittle the coefficients are in these experiments with gradient descent. Try adding a variable, for example. Or if we haven't quite found the global minimum, one coefficient can still change quite dramatically.\n",
    "\n",
    "This is why regression is much more useful for prediction than it is for understanding causal relationships. If we only care about prediction, we don't need to worry about whether the many model assumptions (like whether any meaningful variables are missing) are true. It is possible to study causation with statistical analysis, but simply running regression is not sufficient."
   ]
  }
 ],
 "metadata": {
  "kernelspec": {
   "display_name": "Python 3",
   "language": "python",
   "name": "python3"
  },
  "language_info": {
   "codemirror_mode": {
    "name": "ipython",
    "version": 3
   },
   "file_extension": ".py",
   "mimetype": "text/x-python",
   "name": "python",
   "nbconvert_exporter": "python",
   "pygments_lexer": "ipython3",
   "version": "3.6.5"
  }
 },
 "nbformat": 4,
 "nbformat_minor": 1
}
